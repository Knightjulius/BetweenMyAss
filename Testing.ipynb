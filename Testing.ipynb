{
 "cells": [
  {
   "cell_type": "code",
   "execution_count": 1,
   "metadata": {},
   "outputs": [
    {
     "name": "stdout",
     "output_type": "stream",
     "text": [
      "ඞ\n"
     ]
    }
   ],
   "source": [
    "print(chr(sum(range(ord(min(str(not())))))))"
   ]
  },
  {
   "cell_type": "code",
   "execution_count": 2,
   "metadata": {},
   "outputs": [],
   "source": [
    "import networkx as nx\n",
    "import scipy.io\n",
    "import numpy as np\n",
    "import tarfile\n",
    "import requests\n",
    "import random\n",
    "import matplotlib as plt\n",
    "from collections import Counter\n",
    "import os\n",
    "import pandas as pd\n",
    "# Set the seed for reproducibility\n",
    "seed_value = 42"
   ]
  },
  {
   "cell_type": "markdown",
   "metadata": {},
   "source": [
    "Networks used by old paper"
   ]
  },
  {
   "cell_type": "code",
   "execution_count": 3,
   "metadata": {},
   "outputs": [],
   "source": [
    "# Function to read .mtx files (both weighted and unweighted) and create a graph\n",
    "def read_mtx_file(file_path, weighted=True):\n",
    "    G = nx.Graph()  # or nx.DiGraph() if the graph is directed\n",
    "    \n",
    "    with open(file_path, 'r') as f:\n",
    "        lines = f.readlines()\n",
    "        \n",
    "    # Skip header lines that start with '%%' (Matrix Market metadata)\n",
    "    matrix_data = [line for line in lines if not line.startswith('%%') and line.strip()]\n",
    "    \n",
    "    # Read the edges from the matrix data and add them to the graph\n",
    "    for line in matrix_data:\n",
    "        try:\n",
    "            # Split the line into components\n",
    "            parts = line.split()\n",
    "            u, v = int(parts[0]), int(parts[1])  # Convert nodes to integers\n",
    "            \n",
    "            if weighted:\n",
    "                # If the graph is weighted, assume the third element is the weight\n",
    "                weight = float(parts[2])\n",
    "                G.add_edge(u, v, weight=weight)\n",
    "            else:\n",
    "                # If unweighted, just add the edge without weight\n",
    "                G.add_edge(u, v)\n",
    "        except ValueError:\n",
    "            print(f\"Skipping invalid line: {line.strip()}\")\n",
    "    \n",
    "    return G"
   ]
  },
  {
   "cell_type": "code",
   "execution_count": 4,
   "metadata": {},
   "outputs": [],
   "source": [
    "def statistics(G):\n",
    "    print(f'Number of nodes: {G.number_of_nodes()}')\n",
    "    print(f'Number of edges: {G.number_of_edges()}')\n",
    "\n",
    "    # Density\n",
    "    density = nx.density(G)\n",
    "    print(\"The density of the graph is: \",density)\n",
    "\n",
    "    # average clustering coefficient\n",
    "    # Calculate the local clustering coefficient for each node\n",
    "    CC = nx.clustering(G)\n",
    "    # Calculate the average clustering coefficient\n",
    "    ACC = sum(CC.values()) / len(CC)\n",
    "    print(f\"Average Clustering Coefficient is: {ACC}\")"
   ]
  },
  {
   "cell_type": "code",
   "execution_count": 5,
   "metadata": {},
   "outputs": [],
   "source": [
    "# Function to calculate betweenness centrality and save to a folder\n",
    "def calculate_and_save_betweenness(G, graph_name, output_folder='BetweennessCentrality'):\n",
    "    # Calculate betweenness centrality\n",
    "    betweenness = nx.betweenness_centrality(G)\n",
    "    \n",
    "    # Create the output folder if it doesn't exist\n",
    "    if not os.path.exists(output_folder):\n",
    "        os.makedirs(output_folder)\n",
    "    \n",
    "    # Create a unique file name based on the graph name\n",
    "    file_path = os.path.join(output_folder, f'betweenness_centrality_{graph_name}.txt')\n",
    "    \n",
    "    # Save betweenness centrality to a text file\n",
    "    with open(file_path, 'w') as f:\n",
    "        f.write(\"Node\\tBetweennessCentrality\\n\")  # Write header\n",
    "        for node, centrality in betweenness.items():\n",
    "            f.write(f\"{node}\\t{centrality}\\n\")\n",
    "    \n",
    "    print(f\"Betweenness centrality saved to {file_path}\")"
   ]
  },
  {
   "cell_type": "code",
   "execution_count": 6,
   "metadata": {},
   "outputs": [
    {
     "name": "stdout",
     "output_type": "stream",
     "text": [
      "[('0', '3'), ('0', '2'), ('0', '17'), ('0', '8'), ('1', '13'), ('1', '8'), ('1', '7'), ('2', '18'), ('2', '12'), ('2', '17'), ('2', '6'), ('2', '9'), ('3', '17'), ('3', '10'), ('3', '11'), ('3', '12'), ('4', '7'), ('4', '6'), ('5', '13'), ('6', '7'), ('6', '17'), ('7', '8'), ('7', '13'), ('8', '10'), ('9', '19'), ('11', '19'), ('11', '18'), ('14', '18'), ('14', '17'), ('16', '19')]\n",
      "0\n",
      "Number of nodes: 20\n",
      "Number of edges: 30\n",
      "The density of the graph is:  0.15789473684210525\n",
      "Average Clustering Coefficient is: 0.18333333333333332\n",
      "Betweenness centrality saved to BetweennessCentrality\\betweenness_centrality_Test1.txt\n"
     ]
    }
   ],
   "source": [
    "G = nx.read_graphml(\"GraphsNetworkX/Test1.graphml\")\n",
    "print(nx.edges(G))\n",
    "print(G.degree('15'))\n",
    "statistics(G)\n",
    "calculate_and_save_betweenness(G, 'Test1')"
   ]
  },
  {
   "cell_type": "markdown",
   "metadata": {},
   "source": [
    "Rand"
   ]
  },
  {
   "cell_type": "code",
   "execution_count": 20,
   "metadata": {},
   "outputs": [],
   "source": [
    "# Parameters for Erdos-Renyi graph\n",
    "n = 2000  # Number of vertices\n",
    "m = 7980  # Number of edges\n",
    "\n",
    "# Generate Erdos-Renyi random graph\n",
    "G = nx.gnm_random_graph(n, m, seed=seed_value)\n",
    "nx.write_graphml(G, \"GraphsNetworkX/Rand.graphml\")\n",
    "G = nx.read_graphml(\"GraphsNetworkX/Rand.graphml\")"
   ]
  },
  {
   "cell_type": "code",
   "execution_count": 10,
   "metadata": {},
   "outputs": [
    {
     "name": "stdout",
     "output_type": "stream",
     "text": [
      "Number of nodes: 2000\n",
      "Number of edges: 7980\n",
      "The density of the graph is:  0.003991995997998999\n",
      "Average Clustering Coefficient is: 0.004036149879532232\n"
     ]
    }
   ],
   "source": [
    "statistics(G)"
   ]
  },
  {
   "cell_type": "code",
   "execution_count": 7,
   "metadata": {},
   "outputs": [
    {
     "name": "stdout",
     "output_type": "stream",
     "text": [
      "Betweenness centrality saved to BetweennessCentrality\\betweenness_centrality_Rand.txt\n"
     ]
    }
   ],
   "source": [
    "calculate_and_save_betweenness(G, 'Rand')"
   ]
  },
  {
   "cell_type": "markdown",
   "metadata": {},
   "source": [
    "Pref-attach"
   ]
  },
  {
   "cell_type": "code",
   "execution_count": null,
   "metadata": {},
   "outputs": [],
   "source": [
    "# pref-attach\n",
    "# Parameters: number of nodes (2000) and edges to attach per new node \n",
    "n_nodes = 2000  # number of nodes\n",
    "# needs an into so the num of edges cant be 7980 exactly\n",
    "m_edges = 4     # number of edges to attach per new node\n",
    "\n",
    "# Generate the graph using the Preferential Attachment model\n",
    "G = nx.barabasi_albert_graph(n_nodes, m_edges, seed=seed_value)\n",
    "# Save the graph to a GraphML file\n",
    "nx.write_graphml(G, \"GraphsNetworkX/Pref-attach.graphml\")\n",
    "G = nx.read_graphml(\"GraphsNetworkX/Pref-attach.graphml\")"
   ]
  },
  {
   "cell_type": "code",
   "execution_count": null,
   "metadata": {},
   "outputs": [
    {
     "name": "stdout",
     "output_type": "stream",
     "text": [
      "Number of nodes: 2000\n",
      "Number of edges: 7984\n",
      "The density of the graph is:  0.00399399699849925\n",
      "Average Clustering Coefficient is: 0.019885923481658265\n"
     ]
    }
   ],
   "source": [
    "statistics(G)"
   ]
  },
  {
   "cell_type": "code",
   "execution_count": 35,
   "metadata": {},
   "outputs": [
    {
     "name": "stdout",
     "output_type": "stream",
     "text": [
      "Betweenness centrality saved to BetweennessCentrality\\betweenness_centrality_Pref-attach.txt\n"
     ]
    }
   ],
   "source": [
    "calculate_and_save_betweenness(G, 'Pref-attach')"
   ]
  },
  {
   "cell_type": "markdown",
   "metadata": {},
   "source": [
    "Bio-pin"
   ]
  },
  {
   "cell_type": "code",
   "execution_count": null,
   "metadata": {},
   "outputs": [],
   "source": [
    "# TODO import bio pin als ie bestaat"
   ]
  },
  {
   "cell_type": "markdown",
   "metadata": {},
   "source": [
    "Crawl"
   ]
  },
  {
   "cell_type": "code",
   "execution_count": 36,
   "metadata": {},
   "outputs": [],
   "source": [
    "# IMPORTANT: Run only once and edit the header of the file\n",
    "\n",
    "# Extract the contents of the tar.gz file\n",
    "with tarfile.open('OriginalGraphs/wb-cs-stanford.tar.gz', 'r:gz') as tar:\n",
    "    tar.extractall(path='output_directory')"
   ]
  },
  {
   "cell_type": "code",
   "execution_count": 8,
   "metadata": {},
   "outputs": [],
   "source": [
    "# Load the graph\n",
    "file_path = 'output_directory/wb-cs-stanford/wb-cs-stanford.mtx'\n",
    "G = read_mtx_file(file_path, weighted=False)\n",
    "nx.write_graphml(G, \"GraphsNetworkX/Crawl.graphml\")\n",
    "G = nx.read_graphml(\"GraphsNetworkX/Crawl.graphml\")"
   ]
  },
  {
   "cell_type": "code",
   "execution_count": 9,
   "metadata": {},
   "outputs": [
    {
     "name": "stdout",
     "output_type": "stream",
     "text": [
      "Number of nodes: 9435\n",
      "Number of edges: 28726\n",
      "The density of the graph is:  0.0006454570896077836\n",
      "Average Clustering Coefficient is: 0.37014259070785793\n"
     ]
    }
   ],
   "source": [
    "statistics(G)"
   ]
  },
  {
   "cell_type": "code",
   "execution_count": 39,
   "metadata": {},
   "outputs": [
    {
     "name": "stdout",
     "output_type": "stream",
     "text": [
      "Betweenness centrality saved to BetweennessCentrality\\betweenness_centrality_Crawl.txt\n"
     ]
    }
   ],
   "source": [
    "calculate_and_save_betweenness(G, 'Crawl')"
   ]
  },
  {
   "cell_type": "markdown",
   "metadata": {},
   "source": [
    "Cite"
   ]
  },
  {
   "cell_type": "code",
   "execution_count": 10,
   "metadata": {},
   "outputs": [],
   "source": [
    "# IMPORTANT: Run only once and edit the header of the file\n",
    "\n",
    "# Extract the contents of the tar.gz file\n",
    "with tarfile.open('OriginalGraphs/lederberg.tar.gz', 'r:gz') as tar:\n",
    "    tar.extractall(path='output_directory')"
   ]
  },
  {
   "cell_type": "code",
   "execution_count": 11,
   "metadata": {},
   "outputs": [
    {
     "name": "stdout",
     "output_type": "stream",
     "text": [
      "Skipping invalid line: %-------------------------------------------------------------------------------\n",
      "Skipping invalid line: % UF Sparse Matrix Collection, Tim Davis\n",
      "Skipping invalid line: % http://www.cise.ufl.edu/research/sparse/matrices/Pajek/Lederberg\n",
      "Skipping invalid line: % name: Pajek/Lederberg\n",
      "Skipping invalid line: % [Pajek network: Lederberg citation network]\n",
      "Skipping invalid line: % id: 1508\n",
      "Skipping invalid line: % date: 2002\n",
      "Skipping invalid line: % author: E. Garfield\n",
      "Skipping invalid line: % ed: V. Batagelj\n",
      "Skipping invalid line: % fields: name title A id kind notes aux date author ed\n",
      "Skipping invalid line: % aux: pubyear gcs nodename\n",
      "Skipping invalid line: % kind: directed multigraph\n",
      "Skipping invalid line: %-------------------------------------------------------------------------------\n",
      "Skipping invalid line: % notes:\n",
      "Skipping invalid line: % ------------------------------------------------------------------------------\n",
      "Skipping invalid line: % Pajek network converted to sparse adjacency matrix for inclusion in UF sparse\n",
      "Skipping invalid line: % matrix collection, Tim Davis.  For Pajek datasets, See V. Batagelj & A. Mrvar,\n",
      "Skipping invalid line: % http://vlado.fmf.uni-lj.si/pub/networks/data/.\n",
      "Skipping invalid line: % ------------------------------------------------------------------------------\n",
      "Skipping invalid line: %  Articles by and citing J Lederberg, 1945-2002, Wed Jul 31 13:40:22 2002\n",
      "Skipping invalid line: %-------------------------------------------------------------------------------\n"
     ]
    }
   ],
   "source": [
    "# Load the graph\n",
    "file_path = 'output_directory/Lederberg/Lederberg.mtx'\n",
    "G = read_mtx_file(file_path, weighted=True)\n",
    "nx.write_graphml(G, \"GraphsNetworkX/Cite.graphml\")\n",
    "G = nx.read_graphml(\"GraphsNetworkX/Cite.graphml\")"
   ]
  },
  {
   "cell_type": "code",
   "execution_count": 12,
   "metadata": {},
   "outputs": [
    {
     "name": "stdout",
     "output_type": "stream",
     "text": [
      "Number of nodes: 8324\n",
      "Number of edges: 41539\n",
      "The density of the graph is:  0.0011991515322344252\n",
      "Average Clustering Coefficient is: 0.31436910784645994\n"
     ]
    }
   ],
   "source": [
    "statistics(G)"
   ]
  },
  {
   "cell_type": "code",
   "execution_count": 43,
   "metadata": {},
   "outputs": [
    {
     "name": "stdout",
     "output_type": "stream",
     "text": [
      "Betweenness centrality saved to BetweennessCentrality\\betweenness_centrality_Cite.txt\n"
     ]
    }
   ],
   "source": [
    "calculate_and_save_betweenness(G, 'Cite')"
   ]
  },
  {
   "cell_type": "markdown",
   "metadata": {},
   "source": [
    "Road"
   ]
  },
  {
   "cell_type": "code",
   "execution_count": 13,
   "metadata": {},
   "outputs": [],
   "source": [
    "# IMPORTANT: Run only once and edit the header of the file\n",
    "url = \"http://www.diag.uniroma1.it/~challenge9/data/rome/rome99.gr\"\n",
    "response = requests.get(url)\n",
    "\n",
    "with open(\"OriginalGraphs/rome99.gr\", \"wb\") as f:\n",
    "    f.write(response.content)"
   ]
  },
  {
   "cell_type": "code",
   "execution_count": 14,
   "metadata": {},
   "outputs": [],
   "source": [
    "# Define the file path (replace with the actual path to your file)\n",
    "file_path = \"OriginalGraphs/rome99.gr\"\n",
    "\n",
    "# Create an empty graph (you can choose directed or undirected based on your dataset)\n",
    "G = nx.Graph()  # Use nx.DiGraph() for directed graphs\n",
    "\n",
    "# Open the file and read line by line\n",
    "with open(file_path, 'r') as f:\n",
    "    for line in f:\n",
    "        # Skip empty lines or comment lines\n",
    "        if line.strip() and not line.startswith(\"#\"):\n",
    "            parts = line.split()\n",
    "            \n",
    "            # Check if the line starts with a non-numeric character ('a') and remove it\n",
    "            if parts[0] == 'a':\n",
    "                parts = parts[1:]  # Remove the first part (non-numeric 'a')\n",
    "            \n",
    "            if len(parts) != 3:  # Ensure the line has exactly 3 parts\n",
    "                continue  # Skip malformed lines\n",
    "\n",
    "            try:\n",
    "                # Try to convert vertex1, vertex2 to integers and weight to a float\n",
    "                vertex1 = int(parts[0])\n",
    "                vertex2 = int(parts[1])\n",
    "                weight = float(parts[2])  # Adjust type if weights are integers\n",
    "                \n",
    "                # Add the edge to the graph\n",
    "                G.add_edge(vertex1, vertex2, weight=weight)\n",
    "            except ValueError:\n",
    "                # Skip lines where conversion fails (e.g., non-numeric data)\n",
    "                continue\n",
    "\n",
    "nx.write_graphml(G, \"GraphsNetworkX/Road.graphml\")\n",
    "G = nx.read_graphml(\"GraphsNetworkX/Road.graphml\")"
   ]
  },
  {
   "cell_type": "code",
   "execution_count": 15,
   "metadata": {},
   "outputs": [
    {
     "name": "stdout",
     "output_type": "stream",
     "text": [
      "Number of nodes: 3353\n",
      "Number of edges: 4831\n",
      "The density of the graph is:  0.0008596654440471861\n",
      "Average Clustering Coefficient is: 0.03027139874739033\n"
     ]
    }
   ],
   "source": [
    "statistics(G)"
   ]
  },
  {
   "cell_type": "code",
   "execution_count": 47,
   "metadata": {},
   "outputs": [
    {
     "name": "stdout",
     "output_type": "stream",
     "text": [
      "Betweenness centrality saved to BetweennessCentrality\\betweenness_centrality_Road.txt\n"
     ]
    }
   ],
   "source": [
    "calculate_and_save_betweenness(G, 'Road')"
   ]
  },
  {
   "cell_type": "markdown",
   "metadata": {},
   "source": [
    "New Networks"
   ]
  },
  {
   "cell_type": "markdown",
   "metadata": {},
   "source": [
    "Amazon"
   ]
  },
  {
   "cell_type": "code",
   "execution_count": 16,
   "metadata": {},
   "outputs": [
    {
     "name": "stdout",
     "output_type": "stream",
     "text": [
      "Number of nodes: 262111\n",
      "Number of edges: 899792\n",
      "The density of the graph is:  2.6194088195261075e-05\n",
      "Average Clustering Coefficient is: 0.419780014607673\n"
     ]
    }
   ],
   "source": [
    "# Load the graph from the gzipped file\n",
    "file_path = \"NewGraphs/amazon0302.txt.gz\"\n",
    "G = nx.read_edgelist(file_path)\n",
    "nx.write_graphml(G, \"GraphsNetworkX/Amazon.graphml\")\n",
    "G = nx.read_graphml(\"GraphsNetworkX/Amazon.graphml\")\n",
    "statistics(G)"
   ]
  },
  {
   "cell_type": "code",
   "execution_count": null,
   "metadata": {},
   "outputs": [],
   "source": [
    "calculate_and_save_betweenness(G, 'Amazon')"
   ]
  },
  {
   "cell_type": "markdown",
   "metadata": {},
   "source": [
    "Bio-CE"
   ]
  },
  {
   "cell_type": "code",
   "execution_count": 17,
   "metadata": {},
   "outputs": [
    {
     "name": "stdout",
     "output_type": "stream",
     "text": [
      "Number of nodes: 15229\n",
      "Number of edges: 245952\n",
      "The density of the graph is:  0.0021211242020364595\n",
      "Average Clustering Coefficient is: 0.21116502730743858\n"
     ]
    }
   ],
   "source": [
    "# Load the weighted graph from the edge list file\n",
    "file_path = \"NewGraphs/bio-CE-CX.edges\"\n",
    "G = nx.read_edgelist(file_path, nodetype=int, data=(('weight', float),))\n",
    "nx.write_graphml(G, \"GraphsNetworkX/BioCE.graphml\")\n",
    "G = nx.read_graphml(\"GraphsNetworkX/BioCE.graphml\")\n",
    "statistics(G)"
   ]
  },
  {
   "cell_type": "code",
   "execution_count": null,
   "metadata": {},
   "outputs": [],
   "source": [
    "calculate_and_save_betweenness(G, 'BIO-CE')"
   ]
  },
  {
   "cell_type": "markdown",
   "metadata": {},
   "source": [
    "Musea Facebook"
   ]
  },
  {
   "cell_type": "code",
   "execution_count": 18,
   "metadata": {},
   "outputs": [
    {
     "name": "stdout",
     "output_type": "stream",
     "text": [
      "Number of nodes: 22470\n",
      "Number of edges: 171002\n",
      "The density of the graph is:  0.000677398715568023\n",
      "Average Clustering Coefficient is: 0.3597383824426942\n"
     ]
    }
   ],
   "source": [
    "# Load the graph from the CSV edge list file (assuming the file has two columns: source and target nodes)\n",
    "file_path = \"NewGraphs/musae_facebook_edges.csv\"\n",
    "G= nx.read_edgelist(file_path, delimiter=',', nodetype=int)\n",
    "nx.write_graphml(G, \"GraphsNetworkX/museaFB.graphml\")\n",
    "G = nx.read_graphml(\"GraphsNetworkX/museaFB.graphml\")\n",
    "statistics(G)"
   ]
  },
  {
   "cell_type": "code",
   "execution_count": null,
   "metadata": {},
   "outputs": [],
   "source": [
    "calculate_and_save_betweenness(G, 'MuseaFacebook')"
   ]
  },
  {
   "cell_type": "markdown",
   "metadata": {},
   "source": [
    "Wiki Vote"
   ]
  },
  {
   "cell_type": "code",
   "execution_count": 19,
   "metadata": {},
   "outputs": [
    {
     "name": "stdout",
     "output_type": "stream",
     "text": [
      "Number of nodes: 7115\n",
      "Number of edges: 100762\n",
      "The density of the graph is:  0.003981420144693063\n",
      "Average Clustering Coefficient is: 0.14089784589308738\n"
     ]
    }
   ],
   "source": [
    "# Load the graph from the gzipped file\n",
    "file_path = \"NewGraphs\\wiki-Vote.txt.gz\"\n",
    "G = nx.read_edgelist(file_path)\n",
    "nx.write_graphml(G, \"GraphsNetworkX/WikiVote.graphml\")\n",
    "G = nx.read_graphml(\"GraphsNetworkX/WikiVote.graphml\")\n",
    "statistics(G)"
   ]
  },
  {
   "cell_type": "code",
   "execution_count": null,
   "metadata": {},
   "outputs": [],
   "source": [
    "calculate_and_save_betweenness(G, 'WikiVote')"
   ]
  }
 ],
 "metadata": {
  "kernelspec": {
   "display_name": "Python 3",
   "language": "python",
   "name": "python3"
  },
  "language_info": {
   "codemirror_mode": {
    "name": "ipython",
    "version": 3
   },
   "file_extension": ".py",
   "mimetype": "text/x-python",
   "name": "python",
   "nbconvert_exporter": "python",
   "pygments_lexer": "ipython3",
   "version": "3.11.5"
  }
 },
 "nbformat": 4,
 "nbformat_minor": 2
}
